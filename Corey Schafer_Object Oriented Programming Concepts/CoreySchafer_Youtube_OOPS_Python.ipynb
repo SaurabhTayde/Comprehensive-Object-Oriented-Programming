{
 "cells": [
  {
   "cell_type": "code",
   "execution_count": 1,
   "metadata": {},
   "outputs": [],
   "source": [
    "# Why classes are used?\n",
    "\n",
    "# Classes are used in most modern programming languages as they allow us to logically group our data and functions in a way that\n",
    "# they are easy to re-use and easy to build upon if needed\n",
    "\n",
    "#OR\n",
    "\n",
    "# A reuseable chunk of code that has methods and variables\n"
   ]
  },
  {
   "cell_type": "code",
   "execution_count": 129,
   "metadata": {},
   "outputs": [],
   "source": [
    "# Methods are functions that are defined in a class:\n",
    "\n",
    "# Basic features of class in Python are:\n",
    "    # Constructors\n",
    "    # Attributes\n",
    "    # Methods\n"
   ]
  },
  {
   "cell_type": "code",
   "execution_count": 130,
   "metadata": {},
   "outputs": [],
   "source": [
    "# Definition of attributes:\n",
    "    \n",
    "# In Object-oriented programming(OOP), classes and objects have attributes.\n",
    "# Attributes are data stored inside a class or instance and represent the state or quality of the class or instance.\n",
    "# In short, attributes store information about the instance.\n",
    "# Also, attributes should not be confused with class functions also known as methods.\n",
    "# One can think of attributes as noun or adjective, while methods are the verb of the class\n"
   ]
  },
  {
   "cell_type": "code",
   "execution_count": null,
   "metadata": {},
   "outputs": [],
   "source": [
    "# While class attributes act as a global shared variable, instance attributes will store data about a specific instance,\n",
    "# be it breed, fur color or name in case of dog instance, which is unique to each instance\n"
   ]
  },
  {
   "cell_type": "code",
   "execution_count": 3,
   "metadata": {},
   "outputs": [],
   "source": [
    "# Example:\n",
    "# Suppose we have an application for our company and we wanted to represent our employees in out Python code\n",
    "# Above example will be good case for a class coz each employee will have specific attributes and methods,\n",
    "# as each employee will have name, mail address, pay and also their duties\n",
    "\n",
    "# So it will be good to create a class in such cases instead of manually creating everything from scratch\n"
   ]
  },
  {
   "cell_type": "code",
   "execution_count": null,
   "metadata": {},
   "outputs": [],
   "source": [
    "# Lets create class named employee:\n",
    "\n",
    "class Employee:\n",
    "    pass       # If we want to put the class or function as empty for the time being, we can write 'pass' in it.\n",
    "               # Due to this Python will come to know we want to skip it as of now\n",
    "    \n",
    "# So now we have simple Employee class with no attributes or methods"
   ]
  },
  {
   "cell_type": "code",
   "execution_count": 6,
   "metadata": {},
   "outputs": [
    {
     "name": "stdout",
     "output_type": "stream",
     "text": [
      "<__main__.Employee object at 0x00000231C0B646D8>\n",
      "<__main__.Employee object at 0x00000231C0B64668>\n"
     ]
    }
   ],
   "source": [
    "# Difference between class and instance of a class:\n",
    "\n",
    "# Class is a blueprint to create instances. Each unique variable that will be created in a class will be instance of that class.\n",
    "\n",
    "# Consider below example:\n",
    "\n",
    "class Employee:\n",
    "    pass \n",
    "\n",
    "emp_1 = Employee()\n",
    "emp_2 = Employee()\n",
    "\n",
    "# emp_1 and emp_2 are objects\n",
    "\n",
    "print(emp_1)\n",
    "print(emp_2)\n",
    "\n",
    "# So from the below output we can see that both emp_1 and emp_2 are at unique address"
   ]
  },
  {
   "cell_type": "code",
   "execution_count": 1,
   "metadata": {},
   "outputs": [
    {
     "name": "stdout",
     "output_type": "stream",
     "text": [
      "<__main__.Employee object at 0x00000210AA4904A8>\n",
      "<__main__.Employee object at 0x00000210AA4904E0>\n",
      "************************************************************\n",
      "saurabh.tayde@company.com\n",
      "test.user@company.com\n"
     ]
    }
   ],
   "source": [
    "# Difference between instance variables and class variables:\n",
    "\n",
    "# Instance variables: It contents data that is unique to each variable\n",
    "# (Class variables we will see later)\n",
    "\n",
    "# So we can manually create instance variable for each employee by doing the following:\n",
    "\n",
    "class Employee:\n",
    "    pass \n",
    "\n",
    "emp_1 = Employee()\n",
    "emp_2 = Employee()\n",
    "\n",
    "# emp_1 and emp_2 are objects\n",
    "\n",
    "\n",
    "print(emp_1)\n",
    "print(emp_2)\n",
    "\n",
    "print(60*'*')\n",
    "\n",
    "emp_1.first = 'Saurabh'\n",
    "emp_1.last = 'Tayde'\n",
    "emp_1.email = 'saurabh.tayde@company.com'\n",
    "emp_1.pay = 13\n",
    "\n",
    "emp_2.first = 'Test'\n",
    "emp_2.last = 'User'\n",
    "emp_2.email = 'test.user@company.com'\n",
    "emp_2.pay = 15\n",
    "\n",
    "print(emp_1.email)\n",
    "print(emp_2.email)\n"
   ]
  },
  {
   "cell_type": "code",
   "execution_count": 14,
   "metadata": {},
   "outputs": [],
   "source": [
    "# So from above output we can see that we are doing manual work here\n",
    "\n",
    "# If we want to put info (name, mail etc) of the employee  directy while creating the employee rather than doing all this manually,\n",
    "# like we did as above, different method should be used\n",
    "\n",
    "# We dont want to do this manually evertime as its time consuming, code is getting lengthy and it is also prone to errors.\n",
    "\n",
    "# If we did it this way, we won't be getting benefit of the classes if we did this way.\n",
    "\n",
    "# So to make this setup automatically, when we crate the employee then we gonna use the special 'init' method\n",
    "\n",
    "# So we can consider 'init' as initialize. Also it can be called as constructor\n",
    "\n",
    "# Refer following code:\n"
   ]
  },
  {
   "cell_type": "code",
   "execution_count": 29,
   "metadata": {},
   "outputs": [
    {
     "name": "stdout",
     "output_type": "stream",
     "text": [
      "Saurabh.Tayde@company.com\n",
      "Test.User@company.com\n",
      "Saurabh\n"
     ]
    }
   ],
   "source": [
    "# Now when we create method, within a class, it recieves the instance as the first argument automatically\n",
    "# And by convention, we should call this instance as self. \n",
    "# (Not only 'self', but we can call it whatever we want, but 'self' is standard convention)\n",
    "# After self, we can specify what other arguments we want to accept.\n",
    "# We will consider 'first', 'last' and 'pay' here ('email' can be created from first name and last name)\n",
    "# Refer following code:\n",
    "\n",
    "class Employee:\n",
    "    \n",
    "    def __init__(self, first, last, pay):   # Constructor\n",
    "        self.first = first                  # instance variable        \n",
    "        self.last = last\n",
    "        self.pay = pay\n",
    "        self.email = first + '.' + last + '@company.com'\n",
    "        \n",
    "# Here in above code, instead of writing 'self.first', 'self.name' or anything can be written (For ex. 'self.XXXX')\n",
    "# But better to prefer the same suffix as the variable\n",
    "\n",
    "emp_1 = Employee('Saurabh','Tayde', 13)\n",
    "emp_2 = Employee('Test','User', 15)\n",
    "\n",
    "\n",
    "print(emp_1.email)\n",
    "print(emp_2.email)\n",
    "print(emp_1.first)\n"
   ]
  },
  {
   "cell_type": "code",
   "execution_count": 49,
   "metadata": {},
   "outputs": [
    {
     "name": "stdout",
     "output_type": "stream",
     "text": [
      "Saurabh Tayde\n"
     ]
    }
   ],
   "source": [
    "# Now suppose we want full name of the employee, we will write it as follows:\n",
    "\n",
    "class Employee:\n",
    "    \n",
    "    \n",
    "    def __init__(self, first, last, pay):   # Constructor\n",
    "        self.first = first   # Instance variable\n",
    "        self.last = last \n",
    "        self.pay = pay\n",
    "        self.email = first + '.' + last + '@company.com'\n",
    "\n",
    "\n",
    "emp_1 = Employee('Saurabh','Tayde', 13)\n",
    "emp_2 = Employee('Test','User', 15)\n",
    "\n",
    "print('{} {}'.format(emp_1.first, emp_1.last))\n",
    "\n",
    "#Following command can also be used (But it dont work while returning the value in function (In next to next code)):\n",
    "#print(emp_1.first,emp_1.last)\n"
   ]
  },
  {
   "cell_type": "code",
   "execution_count": 38,
   "metadata": {},
   "outputs": [],
   "source": [
    "# Also for full name, we can create an atttribute and we can write it as follows:\n",
    "\n",
    "#class Employee:\n",
    "#    def __init__(self, first, last, pay):\n",
    "#        self.first = first\n",
    "#        self.last = last\n",
    "#        self.pay = pay\n",
    "#        self.email = first + '.' + last + '@company.com'\n",
    "#        self.fullname = first + ' ' + last\n",
    "\n",
    "#emp_1 = Employee('Saurabh','Tayde', 13)\n",
    "#emp_2 = Employee('Test','User', 15)\n",
    "\n",
    "#print('{} {}'.format(emp_1.first, emp_1.last))\n",
    "#print(emp_1.fullname)\n"
   ]
  },
  {
   "cell_type": "code",
   "execution_count": 65,
   "metadata": {},
   "outputs": [
    {
     "name": "stdout",
     "output_type": "stream",
     "text": [
      "Test User\n"
     ]
    }
   ],
   "source": [
    "# To get the output as full name we can also create a method:\n",
    "\n",
    "class Employee:\n",
    "    \n",
    "    def __init__(self, first, last, pay):   # Constructor\n",
    "        self.first = first   # Instance Variable\n",
    "        self.last = last \n",
    "        self.pay = pay\n",
    "        self.email = first + '.' + last + '@company.com'\n",
    "    \n",
    "    def fullname(self):\n",
    "        return '{} {}'.format(self.first, self.last)\n",
    "        \n",
    "emp_1 = Employee('Saurabh','Tayde', 13)\n",
    "emp_2 = Employee('Test','User', 15)\n",
    "\n",
    "print(emp_2.fullname())  # Don't forget the parenthsis.\n"
   ]
  },
  {
   "cell_type": "code",
   "execution_count": 86,
   "metadata": {},
   "outputs": [],
   "source": [
    "# Now in above code, note that we must not forget to use 'self' as an argument while defining method.\n",
    "# If we forget, class 'Employee' will get created successfully, but if we try to print the method, we will get the error.\n",
    "# Refer following two codes (Note that here we are not writing 'self' in the method, fullname):\n",
    "\n",
    "class Employee:\n",
    "    \n",
    "    def __init__(self, first, last, pay): \n",
    "        self.first = first\n",
    "        self.last = last\n",
    "        self.pay = pay\n",
    "        self.email = first + '.' + last + '@company.com'\n",
    "        \n",
    "    def fullname():\n",
    "        return '{} {}'.format(self.first, self.last)\n",
    "\n",
    "emp_1 = Employee('Saurabh','Tayde', 13)\n",
    "emp_2 = Employee('Test','User', 15)\n"
   ]
  },
  {
   "cell_type": "code",
   "execution_count": 87,
   "metadata": {},
   "outputs": [
    {
     "ename": "TypeError",
     "evalue": "fullname() takes 0 positional arguments but 1 was given",
     "output_type": "error",
     "traceback": [
      "\u001b[1;31m---------------------------------------------------------------------------\u001b[0m",
      "\u001b[1;31mTypeError\u001b[0m                                 Traceback (most recent call last)",
      "\u001b[1;32m<ipython-input-87-35476aac3b8a>\u001b[0m in \u001b[0;36m<module>\u001b[1;34m\u001b[0m\n\u001b[0;32m      1\u001b[0m \u001b[1;31m# Now of we go to print, it will throw an error:\u001b[0m\u001b[1;33m\u001b[0m\u001b[1;33m\u001b[0m\u001b[1;33m\u001b[0m\u001b[0m\n\u001b[0;32m      2\u001b[0m \u001b[1;33m\u001b[0m\u001b[0m\n\u001b[1;32m----> 3\u001b[1;33m \u001b[0mprint\u001b[0m\u001b[1;33m(\u001b[0m\u001b[0memp_2\u001b[0m\u001b[1;33m.\u001b[0m\u001b[0mfullname\u001b[0m\u001b[1;33m(\u001b[0m\u001b[1;33m)\u001b[0m\u001b[1;33m)\u001b[0m\u001b[1;33m\u001b[0m\u001b[1;33m\u001b[0m\u001b[0m\n\u001b[0m",
      "\u001b[1;31mTypeError\u001b[0m: fullname() takes 0 positional arguments but 1 was given"
     ]
    }
   ],
   "source": [
    "# Now of we go to print, it will throw an error:\n",
    "\n",
    "print(emp_2.fullname())\n"
   ]
  },
  {
   "cell_type": "code",
   "execution_count": null,
   "metadata": {},
   "outputs": [],
   "source": [
    "# So don't forget to write 'self' as an argument in a method."
   ]
  },
  {
   "cell_type": "code",
   "execution_count": 88,
   "metadata": {},
   "outputs": [
    {
     "name": "stdout",
     "output_type": "stream",
     "text": [
      "Test User\n"
     ]
    }
   ],
   "source": [
    "class Employee:\n",
    "    \n",
    "    def __init__(self, first, last, pay):   # Constructor\n",
    "        self.first = first   # Instance variable\n",
    "        self.last = last \n",
    "        self.pay = pay\n",
    "        self.email = first + '.' + last + '@company.com'\n",
    "    \n",
    "    def fullname(self):\n",
    "        return '{} {}'.format(self.first, self.last)\n",
    "        \n",
    "emp_1 = Employee('Saurabh','Tayde', 13)\n",
    "emp_2 = Employee('Test','User', 15)\n",
    "\n",
    "print(emp_2.fullname())\n"
   ]
  },
  {
   "cell_type": "code",
   "execution_count": 89,
   "metadata": {},
   "outputs": [
    {
     "name": "stdout",
     "output_type": "stream",
     "text": [
      "Test User\n"
     ]
    }
   ],
   "source": [
    "# Now in above code we have called the 'method' on 'instance variable'\n",
    "\n",
    "# As shown in below code, 'method' can also be called on the 'class' as follows, and we will get same output:\n",
    "\n",
    "class Employee:\n",
    "    \n",
    "    def __init__(self, first, last, pay):   # Constructor\n",
    "        self.first = first   # Instance variable\n",
    "        self.last = last \n",
    "        self.pay = pay\n",
    "        self.email = first + '.' + last + '@company.com'\n",
    "    \n",
    "    def fullname(self):\n",
    "        return '{} {}'.format(self.first, self.last)\n",
    "        \n",
    "emp_1 = Employee('Saurabh','Tayde', 13)\n",
    "emp_2 = Employee('Test','User', 15)\n",
    "\n",
    "print(Employee.fullname(emp_2))\n"
   ]
  },
  {
   "cell_type": "code",
   "execution_count": 85,
   "metadata": {},
   "outputs": [
    {
     "name": "stdout",
     "output_type": "stream",
     "text": [
      "Test User\n",
      "Test User\n"
     ]
    }
   ],
   "source": [
    "# We will get the same output for following two commands: \n",
    "\n",
    "# So calling the 'method' on 'object' (No need of argument):\n",
    "\n",
    "print(emp_2.fullname())\n",
    "\n",
    "# So calling the 'method' on 'class' (Need argument): \n",
    "\n",
    "print(Employee.fullname(emp_2))\n"
   ]
  },
  {
   "cell_type": "code",
   "execution_count": 90,
   "metadata": {},
   "outputs": [],
   "source": [
    "# Class variables:\n",
    "\n",
    "# Class variables are the variables that are shared among all instances of the class\n",
    "\n",
    "# Instance variable can be unique for each instance (like name, email and pay), class variable should be same for each instance\n"
   ]
  },
  {
   "cell_type": "code",
   "execution_count": 100,
   "metadata": {},
   "outputs": [
    {
     "name": "stdout",
     "output_type": "stream",
     "text": [
      "50000\n",
      "52000\n"
     ]
    }
   ],
   "source": [
    "# Now suppose there is annual hike the company gives. And its same for all employees:\n",
    "# Consider the amount to be 4%\n",
    "# Lets create a method for the same:\n",
    "\n",
    "class Employee:\n",
    "    \n",
    "    def __init__(self, first, last, pay):\n",
    "        self.first = first\n",
    "        self.last = last\n",
    "        self.pay = pay\n",
    "        self.email = first + '.' + last + '@company.com'\n",
    "    \n",
    "    def fullname(self):\n",
    "        return '{} {}'.format(self.first, self.last)\n",
    "    \n",
    "    def apply_raise(self):\n",
    "        self.pay = int(self.pay * 1.04)\n",
    "    \n",
    "emp_1 = Employee('Saurabh','Tayde', 50000)\n",
    "emp_2 = Employee('Test','User', 60000)\n",
    "\n",
    "print(emp_1.pay)\n",
    "\n",
    "emp_1.apply_raise()\n",
    "\n",
    "print(emp_1.pay)\n",
    "\n",
    "# So after calling 'apply_raise' on 'emp_1' we can see 4% change is what we are getting here\n"
   ]
  },
  {
   "cell_type": "code",
   "execution_count": 115,
   "metadata": {},
   "outputs": [],
   "source": [
    "# But in above command we are calling a method, we need something that will create 'raise' as a variable:\n",
    "# For example:\n",
    "# emp_1.raise_amount\n",
    "\n",
    "\n",
    "# Also as the raise % is common for all the employees, we need something that will give the output of following command:\n",
    "\n",
    "# Employee.raise_amount\n",
    "\n",
    "# Also, the 4% hike is inside a method. Suppose this 4% is at different places in a code and we need to replce it with another number\n",
    "# In such cases, we need to change the 4% at multiple locations manually inside the methods.\n",
    "\n",
    "# So these are the reasons why we require a class variable"
   ]
  },
  {
   "cell_type": "code",
   "execution_count": 122,
   "metadata": {},
   "outputs": [
    {
     "name": "stdout",
     "output_type": "stream",
     "text": [
      "50000\n"
     ]
    },
    {
     "ename": "NameError",
     "evalue": "name 'raise_amount' is not defined",
     "output_type": "error",
     "traceback": [
      "\u001b[1;31m---------------------------------------------------------------------------\u001b[0m",
      "\u001b[1;31mNameError\u001b[0m                                 Traceback (most recent call last)",
      "\u001b[1;32m<ipython-input-122-b6de9be2f4dc>\u001b[0m in \u001b[0;36m<module>\u001b[1;34m\u001b[0m\n\u001b[0;32m     23\u001b[0m \u001b[0mprint\u001b[0m\u001b[1;33m(\u001b[0m\u001b[0memp_1\u001b[0m\u001b[1;33m.\u001b[0m\u001b[0mpay\u001b[0m\u001b[1;33m)\u001b[0m\u001b[1;33m\u001b[0m\u001b[1;33m\u001b[0m\u001b[0m\n\u001b[0;32m     24\u001b[0m \u001b[1;33m\u001b[0m\u001b[0m\n\u001b[1;32m---> 25\u001b[1;33m \u001b[0memp_1\u001b[0m\u001b[1;33m.\u001b[0m\u001b[0mapply_raise\u001b[0m\u001b[1;33m(\u001b[0m\u001b[1;33m)\u001b[0m\u001b[1;33m\u001b[0m\u001b[1;33m\u001b[0m\u001b[0m\n\u001b[0m\u001b[0;32m     26\u001b[0m \u001b[1;33m\u001b[0m\u001b[0m\n\u001b[0;32m     27\u001b[0m \u001b[0mprint\u001b[0m\u001b[1;33m(\u001b[0m\u001b[0memp_1\u001b[0m\u001b[1;33m.\u001b[0m\u001b[0mpay\u001b[0m\u001b[1;33m)\u001b[0m\u001b[1;33m\u001b[0m\u001b[1;33m\u001b[0m\u001b[0m\n",
      "\u001b[1;32m<ipython-input-122-b6de9be2f4dc>\u001b[0m in \u001b[0;36mapply_raise\u001b[1;34m(self)\u001b[0m\n\u001b[0;32m     14\u001b[0m \u001b[1;33m\u001b[0m\u001b[0m\n\u001b[0;32m     15\u001b[0m     \u001b[1;32mdef\u001b[0m \u001b[0mapply_raise\u001b[0m\u001b[1;33m(\u001b[0m\u001b[0mself\u001b[0m\u001b[1;33m)\u001b[0m\u001b[1;33m:\u001b[0m\u001b[1;33m\u001b[0m\u001b[1;33m\u001b[0m\u001b[0m\n\u001b[1;32m---> 16\u001b[1;33m         \u001b[0mself\u001b[0m\u001b[1;33m.\u001b[0m\u001b[0mpay\u001b[0m \u001b[1;33m=\u001b[0m \u001b[0mint\u001b[0m\u001b[1;33m(\u001b[0m\u001b[0mself\u001b[0m\u001b[1;33m.\u001b[0m\u001b[0mpay\u001b[0m \u001b[1;33m*\u001b[0m \u001b[0mraise_amount\u001b[0m\u001b[1;33m)\u001b[0m\u001b[1;33m\u001b[0m\u001b[1;33m\u001b[0m\u001b[0m\n\u001b[0m\u001b[0;32m     17\u001b[0m \u001b[1;33m\u001b[0m\u001b[0m\n\u001b[0;32m     18\u001b[0m \u001b[1;31m# Note in above code, in 'apply_raise' method we replaced '1.04' by 'raise_amount'\u001b[0m\u001b[1;33m\u001b[0m\u001b[1;33m\u001b[0m\u001b[1;33m\u001b[0m\u001b[0m\n",
      "\u001b[1;31mNameError\u001b[0m: name 'raise_amount' is not defined"
     ]
    }
   ],
   "source": [
    "# Let's declare 4% hike outside the method :\n",
    "\n",
    "class Employee:\n",
    "    raise_amount = 1.04\n",
    "    \n",
    "    def __init__(self, first, last, pay):\n",
    "        self.first = first\n",
    "        self.last = last\n",
    "        self.pay = pay\n",
    "        self.email = first + '.' + last + '@company.com'\n",
    "        \n",
    "    def fullname():\n",
    "        return '{} {}'.format(self.first, self.last)\n",
    "    \n",
    "    def apply_raise(self):\n",
    "        self.pay = int(self.pay * raise_amount)\n",
    "        \n",
    "# Note in above code, in 'apply_raise' method we replaced '1.04' by 'raise_amount'\n",
    "\n",
    "emp_1 = Employee('Saurabh','Tayde', 50000)\n",
    "emp_2 = Employee('Test','User', 60000)\n",
    "\n",
    "print(emp_1.pay)\n",
    "\n",
    "emp_1.apply_raise()\n",
    "\n",
    "print(emp_1.pay)\n",
    "\n",
    "# So we can se we are getting error on the output"
   ]
  },
  {
   "cell_type": "code",
   "execution_count": 123,
   "metadata": {},
   "outputs": [
    {
     "name": "stdout",
     "output_type": "stream",
     "text": [
      "50000\n",
      "52000\n"
     ]
    }
   ],
   "source": [
    "# Since we are getting error in above code, we need to replace 'raise_amount' by 'Employee.raise_amount' inside method:\n",
    "\n",
    "class Employee:\n",
    "    raise_amount = 1.04\n",
    "    \n",
    "    def __init__(self, first, last, pay):\n",
    "        self.first = first\n",
    "        self.last = last\n",
    "        self.pay = pay\n",
    "        self.email = first + '.' + last + '@company.com'\n",
    "        \n",
    "    def fullname():\n",
    "        return '{} {}'.format(self.first, self.last)\n",
    "    \n",
    "    def apply_raise(self):\n",
    "        self.pay = int(self.pay * Employee.raise_amount)\n",
    "        \n",
    "\n",
    "emp_1 = Employee('Saurabh','Tayde', 50000)\n",
    "emp_2 = Employee('Test','User', 60000)\n",
    "\n",
    "print(emp_1.pay)\n",
    "\n",
    "emp_1.apply_raise()\n",
    "\n",
    "print(emp_1.pay)\n"
   ]
  },
  {
   "cell_type": "code",
   "execution_count": 125,
   "metadata": {},
   "outputs": [
    {
     "name": "stdout",
     "output_type": "stream",
     "text": [
      "50000\n",
      "52000\n"
     ]
    }
   ],
   "source": [
    "# As we replaced 'raise_amount' by 'Employee.raise_amount'. We can also replace 'raise_amount' by 'self.raise_amount' and it will work:\n",
    "# Refer the following code:\n",
    "\n",
    "class Employee:\n",
    "    raise_amount = 1.04\n",
    "    \n",
    "    def __init__(self, first, last, pay):\n",
    "        self.first = first\n",
    "        self.last = last\n",
    "        self.pay = pay\n",
    "        self.email = first + '.' + last + '@company.com'\n",
    "        \n",
    "    def fullname():\n",
    "        return '{} {}'.format(self.first, self.last)\n",
    "    \n",
    "    def apply_raise(self):\n",
    "        self.pay = int(self.pay * self.raise_amount)\n",
    "        \n",
    "\n",
    "emp_1 = Employee('Saurabh','Tayde', 50000)\n",
    "emp_2 = Employee('Test','User', 60000)\n",
    "\n",
    "print(emp_1.pay)\n",
    "\n",
    "emp_1.apply_raise()\n",
    "\n",
    "print(emp_1.pay)\n"
   ]
  },
  {
   "cell_type": "code",
   "execution_count": 128,
   "metadata": {},
   "outputs": [
    {
     "name": "stdout",
     "output_type": "stream",
     "text": [
      "1.04\n",
      "1.04\n",
      "1.04\n"
     ]
    }
   ],
   "source": [
    "# Now in above code, there's one question that gets raised, if 'raise_amount' is a class variable, how can we access it from instance \n",
    "# This question can be cleared from following examples:\n",
    "\n",
    "print(Employee.raise_amount)\n",
    "print(emp_1.raise_amount)\n",
    "print(emp_2.raise_amount)\n",
    "\n",
    "# So from the below result we can see that we can access class variable from class itself and also from instance as well\n",
    "\n",
    "# So when we try to access attribute on an instance, it will first check whether the instance contains that attribute\n",
    "# And if it doesnt the it will see if the class or any class that it inherits from contains that attribute\n",
    "\n",
    "# So when we access raise_amount from our instances here, theey dont have attributes themselves.\n",
    "# They are accessing the class's raise_amount attribute (as its global variable I think)"
   ]
  },
  {
   "cell_type": "code",
   "execution_count": 132,
   "metadata": {},
   "outputs": [
    {
     "name": "stdout",
     "output_type": "stream",
     "text": [
      "{'__module__': '__main__', 'raise_amount': 1.04, '__init__': <function Employee.__init__ at 0x00000231C109AA60>, 'fullname': <function Employee.fullname at 0x00000231C109AE18>, 'apply_raise': <function Employee.apply_raise at 0x00000231C109A0D0>, '__dict__': <attribute '__dict__' of 'Employee' objects>, '__weakref__': <attribute '__weakref__' of 'Employee' objects>, '__doc__': None}\n"
     ]
    }
   ],
   "source": [
    "# Above explanation can be cleared from below two commands:\n",
    "print(Employee.__dict__)"
   ]
  },
  {
   "cell_type": "code",
   "execution_count": 135,
   "metadata": {},
   "outputs": [
    {
     "name": "stdout",
     "output_type": "stream",
     "text": [
      "{'first': 'Saurabh', 'last': 'Tayde', 'pay': 52000, 'email': 'Saurabh.Tayde@company.com'}\n"
     ]
    }
   ],
   "source": [
    "print(emp_1.__dict__)"
   ]
  },
  {
   "cell_type": "code",
   "execution_count": null,
   "metadata": {},
   "outputs": [],
   "source": [
    "# So we can see that 'raise_amount' is no-where present in the emp_1 instance.\n",
    "# But it is present in Employee class. \n",
    "# So we see that instances fetching the value of raise_amount from the class "
   ]
  },
  {
   "cell_type": "code",
   "execution_count": 137,
   "metadata": {},
   "outputs": [
    {
     "name": "stdout",
     "output_type": "stream",
     "text": [
      "1.05\n",
      "1.05\n",
      "1.05\n"
     ]
    }
   ],
   "source": [
    "# Now lets change the value of class variable and re-run the code:\n",
    "\n",
    "Employee.raise_amount = 1.05\n",
    "\n",
    "print(Employee.raise_amount)\n",
    "print(emp_1.raise_amount)\n",
    "print(emp_2.raise_amount)\n"
   ]
  },
  {
   "cell_type": "code",
   "execution_count": null,
   "metadata": {},
   "outputs": [],
   "source": [
    "# So we can see that if we change the value of Employee.raise_amount it is getting reflected in instances as well.\n",
    "# So variable change is acting globally here\n"
   ]
  },
  {
   "cell_type": "code",
   "execution_count": 140,
   "metadata": {},
   "outputs": [
    {
     "name": "stdout",
     "output_type": "stream",
     "text": [
      "1.04\n",
      "1.04\n",
      "1.04\n"
     ]
    }
   ],
   "source": [
    "class Employee:\n",
    "    raise_amount = 1.04\n",
    "    \n",
    "    def __init__(self, first, last, pay):\n",
    "        self.first = first\n",
    "        self.last = last\n",
    "        self.pay = pay\n",
    "        self.email = first + '.' + last + '@company.com'\n",
    "        \n",
    "    def fullname():\n",
    "        return '{} {}'.format(self.first, self.last)\n",
    "    \n",
    "    def apply_raise(self):\n",
    "        self.pay = int(self.pay * self.raise_amount)\n",
    "        \n",
    "\n",
    "emp_1 = Employee('Saurabh','Tayde', 50000)\n",
    "emp_2 = Employee('Test','User', 60000)\n",
    "\n",
    "print(Employee.raise_amount)\n",
    "print(emp_1.raise_amount)\n",
    "print(emp_2.raise_amount)"
   ]
  },
  {
   "cell_type": "code",
   "execution_count": 142,
   "metadata": {},
   "outputs": [
    {
     "name": "stdout",
     "output_type": "stream",
     "text": [
      "1.04\n",
      "1.05\n",
      "1.04\n"
     ]
    }
   ],
   "source": [
    "# Now lets try to change the value from emp_1:\n",
    "\n",
    "emp_1.raise_amount = 1.05\n",
    "\n",
    "print(Employee.raise_amount)\n",
    "print(emp_1.raise_amount)\n",
    "print(emp_2.raise_amount)"
   ]
  },
  {
   "cell_type": "code",
   "execution_count": 143,
   "metadata": {},
   "outputs": [],
   "source": [
    "# So we can see that value of 'emp_1' got changed. But rest of the values are still on 4%.\n",
    "# So here there's local change of values. Not global"
   ]
  },
  {
   "cell_type": "code",
   "execution_count": 145,
   "metadata": {},
   "outputs": [
    {
     "name": "stdout",
     "output_type": "stream",
     "text": [
      "{'first': 'Saurabh', 'last': 'Tayde', 'pay': 50000, 'email': 'Saurabh.Tayde@company.com', 'raise_amount': 1.05}\n"
     ]
    }
   ],
   "source": [
    "# Lets check the namespace of emp_1:\n",
    "\n",
    "print(emp_1.__dict__)\n",
    "\n",
    "# So now we can see new attribute got joined in the dictionary which is raise_amount because of above command\n"
   ]
  },
  {
   "cell_type": "code",
   "execution_count": 148,
   "metadata": {},
   "outputs": [
    {
     "name": "stdout",
     "output_type": "stream",
     "text": [
      "{'first': 'Test', 'last': 'User', 'pay': 60000, 'email': 'Test.User@company.com'}\n"
     ]
    }
   ],
   "source": [
    "# So emp_1 is fetching its local value of raise_amount while emp_2 is fetching global value\n",
    "\n",
    "print(emp_2.__dict__)\n"
   ]
  },
  {
   "cell_type": "code",
   "execution_count": null,
   "metadata": {},
   "outputs": [],
   "source": [
    "# So we can see the difference between the contents of emp_1 and emp_2\n"
   ]
  },
  {
   "cell_type": "code",
   "execution_count": 160,
   "metadata": {},
   "outputs": [
    {
     "name": "stdout",
     "output_type": "stream",
     "text": [
      "0\n",
      "2\n"
     ]
    }
   ],
   "source": [
    "# Now suppose that we need to find the number of employees\n",
    "# ( This is the case where 'self' become useless. We need to use class name for counter inside the __init__ method )\n",
    "# We need to use class name here as\n",
    "\n",
    "class Employee:\n",
    "    \n",
    "    raise_amount = 1.04\n",
    "    num_of_emps = 0\n",
    "    \n",
    "    def __init__(self, first, last, pay) :\n",
    "        self.first = first\n",
    "        self.last = last\n",
    "        self.pay = pay\n",
    "        self.email = first + '.' + last + '@company.com'\n",
    "        Employee.num_of_emps += 1 \n",
    "    \n",
    "    def fullname(self):   \n",
    "        return '{} {}'.format(self.first, self.last)\n",
    "\n",
    "    def apply_raise(self):\n",
    "        self.pay = int(self.pay * self.raise_amount)\n",
    "        \n",
    "print(Employee.num_of_emps)\n",
    "\n",
    "emp_1 = Employee('Saurabh', 'Tayde', 50000)\n",
    "emp_2 = Employee('Test', 'User', 60000)\n",
    "\n",
    "print(Employee.num_of_emps)\n",
    "\n",
    "# In this code, we are using class name instead of 'self' because with the more and more employees getting created,\n",
    "# counter of 'num_of_emps' will get increamented by using class name. If we use 'self' in the counter, it won't work\n"
   ]
  },
  {
   "cell_type": "code",
   "execution_count": 161,
   "metadata": {},
   "outputs": [],
   "source": [
    "# So in above code we have seen the difference between class variable and instance variable.\n",
    "# Lets see the 3rd video now. \n",
    "\n",
    "# In next video, we will discuss difference between Regular Methods, Class methods and Static methods:\n",
    " "
   ]
  },
  {
   "cell_type": "code",
   "execution_count": null,
   "metadata": {},
   "outputs": [],
   "source": [
    "# Regular methods take instance as a first argument (And by convention we call it 'self')\n",
    "\n",
    "# We need something that will take class as a first argument, thats why we need class method."
   ]
  },
  {
   "cell_type": "code",
   "execution_count": null,
   "metadata": {},
   "outputs": [],
   "source": [
    "# Class method:\n",
    "# To create a class method, decorator needs to be created. (More details on decorator is covered in another video)\n",
    "# Also we need to add class ('cls' by convention) as our first argument.\n",
    "# Refer the following code:\n"
   ]
  },
  {
   "cell_type": "code",
   "execution_count": null,
   "metadata": {},
   "outputs": [],
   "source": [
    " class Employee:\n",
    "    \n",
    "    raise_amount = 1.04\n",
    "    num_of_emps = 0\n",
    "    \n",
    "    def __init__(self, first, last, pay) :\n",
    "        self.first = first\n",
    "        self.last = last\n",
    "        self.pay = pay\n",
    "        self.email = first + '.' + last + '@company.com'\n",
    "        Employee.num_of_emps += 1 \n",
    "    \n",
    "    def fullname(self):   \n",
    "        return '{} {}'.format(self.first, self.last)\n",
    "\n",
    "    def apply_raise(self):\n",
    "        self.pay = int(self.pay * self.raise_amount)\n",
    "        \n",
    "    @classmethod\n",
    "    def set_raise_amt(cls, amount):\n",
    "        pass\n",
    "\n",
    "print(Employee.num_of_emps)\n",
    "\n",
    "emp_1 = Employee('Saurabh', 'Tayde', 50000)\n",
    "emp_2 = Employee('Test', 'User', 60000)\n",
    "\n",
    "print(Employee.num_of_emps)\n"
   ]
  },
  {
   "cell_type": "code",
   "execution_count": 5,
   "metadata": {},
   "outputs": [
    {
     "name": "stdout",
     "output_type": "stream",
     "text": [
      "1.05\n",
      "1.05\n",
      "1.05\n"
     ]
    }
   ],
   "source": [
    "# Let's add the attributes/instances inside the class method:\n",
    "\n",
    "class Employee:\n",
    "    \n",
    "    raise_amount = 1.04\n",
    "    num_of_emps = 0\n",
    "    \n",
    "    def __init__(self, first, last, pay) :\n",
    "        self.first = first\n",
    "        self.last = last\n",
    "        self.pay = pay\n",
    "        self.email = first + '.' + last + '@company.com'\n",
    "        Employee.num_of_emps += 1 \n",
    "    \n",
    "    def fullname(self):   \n",
    "        return '{} {}'.format(self.first, self.last)\n",
    "\n",
    "    def apply_raise(self):\n",
    "        self.pay = int(self.pay * self.raise_amount)\n",
    "        \n",
    "    @classmethod\n",
    "    def set_raise_amt(cls, amount):\n",
    "        cls.raise_amt = amount\n",
    "\n",
    "        \n",
    "emp_1 = Employee('Saurabh', 'Tayde', 50000)\n",
    "emp_2 = Employee('Test', 'User', 60000)\n",
    "\n",
    "# Let's set the amount raise.\n",
    "\n",
    "Employee.set_raise_amt(1.05)\n",
    "\n",
    "print(Employee.raise_amt)\n",
    "print(emp_1.raise_amt)\n",
    "print(emp_2.raise_amt)\n",
    "\n",
    "# So in output we can see that amount raise has been affected in emp_1 and emp_2 as well.\n",
    "# In previous code also (code before 4-5 lines) we changed amount raise to 1.05 for all the instances.\n",
    "# But here the difference is we are calling it on class method (by passing required argument)\n",
    "# And in previous code we just changed the global variable.\n"
   ]
  },
  {
   "cell_type": "code",
   "execution_count": 15,
   "metadata": {},
   "outputs": [
    {
     "name": "stdout",
     "output_type": "stream",
     "text": [
      "1.05\n",
      "1.05\n",
      "1.05\n"
     ]
    }
   ],
   "source": [
    "# We can use class methods running from instances as well but generally no one uses that.\n",
    "# But still lets take an example for the same:\n",
    "\n",
    "class Employee:\n",
    "    \n",
    "    raise_amount = 1.04\n",
    "    num_of_emps = 0\n",
    "    \n",
    "    def __init__(self, first, last, pay) :\n",
    "        self.first = first\n",
    "        self.last = last\n",
    "        self.pay = pay\n",
    "        self.email = first + '.' + last + '@company.com'\n",
    "        Employee.num_of_emps += 1 \n",
    "    \n",
    "    def fullname(self):   \n",
    "        return '{} {}'.format(self.first, self.last)\n",
    "\n",
    "    def apply_raise(self):\n",
    "        self.pay = int(self.pay * self.raise_amount)\n",
    "        \n",
    "    @classmethod\n",
    "    def set_raise_amt(cls, amount):\n",
    "        cls.raise_amt = amount\n",
    "\n",
    "        \n",
    "emp_1 = Employee('Saurabh', 'Tayde', 50000)\n",
    "emp_2 = Employee('Test', 'User', 60000)\n",
    "\n",
    "# Let's set the amount raise on the instance now:\n",
    "\n",
    "emp_1.set_raise_amt(1.05)\n",
    "\n",
    "print(Employee.raise_amt)\n",
    "print(emp_1.raise_amt)\n",
    "print(emp_2.raise_amt)\n"
   ]
  },
  {
   "cell_type": "code",
   "execution_count": 10,
   "metadata": {},
   "outputs": [],
   "source": [
    "# So from the output we can see that even if we apply class method on an instance,\n",
    "# still it changes the value for all the instances and class as well\n",
    "# This is happening because the method we are using here is class method\n"
   ]
  },
  {
   "cell_type": "code",
   "execution_count": 33,
   "metadata": {},
   "outputs": [
    {
     "name": "stdout",
     "output_type": "stream",
     "text": [
      "{'first': 'John', 'last': 'Doe', 'pay': '70000', 'email': 'John.Doe@company.com'}\n"
     ]
    }
   ],
   "source": [
    "# Class methods are also called as alternative constructors.\n",
    "\n",
    "# Explanation of above statement is: We can use these class methods in order to provide multiple ways of creating our objects\n",
    "\n",
    "# Lets take an example to explain the above statement:\n",
    "# If someone is using our employee class and he says that he has specific use cases where he is getting employee information\n",
    "# in the form of a string that is separated by hyphen and I constatly needing to parse the string before I create new employee\n",
    "# So, is there a way to pass in a string and create an employee from that?\n",
    "\n",
    "# So his query is as follows:\n",
    "\n",
    "class Employee:\n",
    "    \n",
    "    raise_amount = 1.04\n",
    "    num_of_emps = 0\n",
    "    \n",
    "    def __init__(self, first, last, pay) :\n",
    "        self.first = first\n",
    "        self.last = last\n",
    "        self.pay = pay\n",
    "        self.email = first + '.' + last + '@company.com'\n",
    "        Employee.num_of_emps += 1 \n",
    "    \n",
    "    def fullname(self):   \n",
    "        return '{} {}'.format(self.first, self.last)\n",
    "\n",
    "    def apply_raise(self):\n",
    "        self.pay = int(self.pay * self.raise_amount)\n",
    "        \n",
    "    @classmethod\n",
    "    def set_raise_amt(cls, amount):\n",
    "        cls.raise_amt = amount\n",
    "\n",
    "        \n",
    "emp_1 = Employee('Saurabh', 'Tayde', 50000)\n",
    "emp_2 = Employee('Test', 'User', 60000)\n",
    "\n",
    "emp_str_1 = 'John-Doe-70000'\n",
    "emp_str_2 = 'Steve-Smith-30000'\n",
    "emp_str_3 = 'Jane-Doe-90000'\n",
    "\n",
    "first, last, pay = emp_str_1.split('-')\n",
    "new_emp_1 = Employee(first, last, pay)\n",
    "\n",
    "print(new_emp_1.__dict__)\n",
    "\n",
    "# So from the output, we can see that new_emp has got the values as expecetd by removing the '-'\n"
   ]
  },
  {
   "cell_type": "code",
   "execution_count": 36,
   "metadata": {},
   "outputs": [
    {
     "name": "stdout",
     "output_type": "stream",
     "text": [
      "{'first': 'John', 'last': 'Doe', 'pay': '70000', 'email': 'John.Doe@company.com'}\n"
     ]
    }
   ],
   "source": [
    "# From the above code, we know the issue. We need to split the string everytime.\n",
    "# Lets create a class so that we dont need to split the string everytime.\n",
    "# So we will create alternative constructor that will allow to pass a string\n",
    "\n",
    "class Employee:\n",
    "    \n",
    "    raise_amount = 1.04\n",
    "    num_of_emps = 0\n",
    "    \n",
    "    def __init__(self, first, last, pay) :\n",
    "        self.first = first\n",
    "        self.last = last\n",
    "        self.pay = pay\n",
    "        self.email = first + '.' + last + '@company.com'\n",
    "        Employee.num_of_emps += 1 \n",
    "    \n",
    "    def fullname(self):   \n",
    "        return '{} {}'.format(self.first, self.last)\n",
    "\n",
    "    def apply_raise(self):\n",
    "        self.pay = int(self.pay * self.raise_amount)\n",
    "        \n",
    "    @classmethod\n",
    "    def set_raise_amt(cls, amount):\n",
    "        cls.raise_amt = amount\n",
    "        \n",
    "    @classmethod\n",
    "    def from_string(cls, emp_str):\n",
    "        first, last, pay = emp_str_1.split('-')\n",
    "        return cls(first, last, pay) \n",
    "\n",
    "emp_1 = Employee('Saurabh', 'Tayde', 50000)\n",
    "emp_2 = Employee('Test', 'User', 60000)\n",
    "\n",
    "emp_str_1 = 'John-Doe-70000'\n",
    "emp_str_2 = 'Steve-Smith-30000'\n",
    "emp_str_3 = 'Jane-Doe-90000'\n",
    "\n",
    "new_emp_1 = Employee.from_string(emp_str_1)\n",
    "\n",
    "print(new_emp_1.__dict__)\n",
    "\n",
    "# So we are getting same output as before\n"
   ]
  },
  {
   "cell_type": "code",
   "execution_count": null,
   "metadata": {},
   "outputs": [],
   "source": [
    "# So in above discussion we understood what class methods are, now lets understand static methods:"
   ]
  },
  {
   "cell_type": "code",
   "execution_count": null,
   "metadata": {},
   "outputs": [],
   "source": [
    "# Static methods:\n",
    "\n",
    "# Regular methods automatically pass 'instance' (self) as the first argument,\n",
    "# class methods automatically pass the 'class' (cls) as the first argument\n",
    "# Static methods dont pass anything automatically (They dont pass instance or the class)\n",
    "# So static methods behave like regular functions except we include them in our class because they have some logical connection with the class\n"
   ]
  },
  {
   "cell_type": "code",
   "execution_count": 45,
   "metadata": {},
   "outputs": [
    {
     "name": "stdout",
     "output_type": "stream",
     "text": [
      "False\n",
      "True\n"
     ]
    }
   ],
   "source": [
    "# So suppose we want a simple function that would take in a date and return whether or not that was a workday (weekday)\n",
    "# So that has logical connection to our employee class but it doesnt actually depend on any specific instance or class variable\n",
    "# So we will make it as static method.\n",
    "\n",
    "class Employee:\n",
    "    \n",
    "    raise_amount = 1.04\n",
    "    num_of_emps = 0\n",
    "    \n",
    "    def __init__(self, first, last, pay) :\n",
    "        self.first = first\n",
    "        self.last = last\n",
    "        self.pay = pay\n",
    "        self.email = first + '.' + last + '@company.com'\n",
    "        Employee.num_of_emps += 1 \n",
    "    \n",
    "    def fullname(self):   \n",
    "        return '{} {}'.format(self.first, self.last)\n",
    "\n",
    "    def apply_raise(self):\n",
    "        self.pay = int(self.pay * self.raise_amount)\n",
    "        \n",
    "    @classmethod\n",
    "    def set_raise_amt(cls, amount):\n",
    "        cls.raise_amt = amount\n",
    "        \n",
    "    @classmethod\n",
    "    def from_string(cls, emp_str):\n",
    "        first, last, pay = emp_str_1.split('-')\n",
    "        return cls(first, last, pay) \n",
    "    \n",
    "    @staticmethod\n",
    "    def is_workday(day):\n",
    "        if day.weekday() == 5 or day.weekday() == 6:  # Since in python 5 denotes saturday, 6 denotes sunday\n",
    "            return False\n",
    "        return True\n",
    "    \n",
    "emp_1 = Employee('Saurabh', 'Tayde', 50000)\n",
    "emp_2 = Employee('Test', 'User', 60000)\n",
    "\n",
    "import datetime \n",
    "\n",
    "my_date = datetime.date(2019, 10, 6)\n",
    "my_date_2 = datetime.date(2019, 10, 7)\n",
    "\n",
    "print(Employee.is_workday(my_date))\n",
    "print(Employee.is_workday(my_date_2))"
   ]
  },
  {
   "cell_type": "code",
   "execution_count": 6,
   "metadata": {},
   "outputs": [
    {
     "name": "stdout",
     "output_type": "stream",
     "text": [
      "Saurabh.Tayde@company.com\n",
      "Test.User@company.com\n",
      "******************************\n",
      "Saurabh.Tayde@company.com\n",
      "Test.User@company.com\n"
     ]
    }
   ],
   "source": [
    "# Video 4: Inheritance - Creating Subclasses:\n",
    "\n",
    "# Inheritance allow us to inherit attributes and methods from parents class.\n",
    "# This is useful because we can create subclasses and get all the functionality of our parent class and we can overwrite or\n",
    "# add new functionality without affeting the parent class in any way.\n",
    "\n",
    "# Till now we were using same employee class. Now suppose we want to use different employee class. For ex. Developers and managers\n",
    "# Now above code will be useful to us as both managers and developers have name, email addresses and salary\n",
    "# and this data we already have in our Employee class. So we can reuse that code by inherting from employee\n",
    "\n",
    "# So lets create developers and managers subclasses:\n",
    "\n",
    "class Employee:\n",
    "    \n",
    "    raise_amount = 1.04\n",
    "    num_of_emps = 0\n",
    "    \n",
    "    def __init__(self, first, last, pay) :\n",
    "        self.first = first\n",
    "        self.last = last\n",
    "        self.pay = pay\n",
    "        self.email = first + '.' + last + '@company.com'\n",
    "        Employee.num_of_emps += 1 \n",
    "    \n",
    "    def fullname(self):   \n",
    "        return '{} {}'.format(self.first, self.last)\n",
    "\n",
    "    def apply_raise(self):\n",
    "        self.pay = int(self.pay * self.raise_amount)\n",
    "\n",
    "class Developer(Employee):\n",
    "    pass \n",
    "\n",
    "\n",
    "emp_1 = Employee('Saurabh', 'Tayde', 50000)\n",
    "emp_2 = Employee('Test', 'User', 60000)\n",
    "\n",
    "print(emp_1.email)\n",
    "print(emp_2.email)\n",
    "print(30*'*')\n",
    "\n",
    "# Let's use Developer class now:\n",
    "\n",
    "dev_1 = Developer('Saurabh', 'Tayde', 50000)\n",
    "dev_2 = Developer('Test', 'User', 60000)\n",
    "\n",
    "print(dev_1.email)\n",
    "print(dev_2.email)\n"
   ]
  },
  {
   "cell_type": "code",
   "execution_count": 10,
   "metadata": {
    "scrolled": true
   },
   "outputs": [
    {
     "name": "stdout",
     "output_type": "stream",
     "text": [
      "Help on class Developer in module __main__:\n",
      "\n",
      "class Developer(Employee)\n",
      " |  Developer(first, last, pay)\n",
      " |  \n",
      " |  Method resolution order:\n",
      " |      Developer\n",
      " |      Employee\n",
      " |      builtins.object\n",
      " |  \n",
      " |  Methods inherited from Employee:\n",
      " |  \n",
      " |  __init__(self, first, last, pay)\n",
      " |      Initialize self.  See help(type(self)) for accurate signature.\n",
      " |  \n",
      " |  apply_raise(self)\n",
      " |  \n",
      " |  fullname(self)\n",
      " |  \n",
      " |  ----------------------------------------------------------------------\n",
      " |  Data descriptors inherited from Employee:\n",
      " |  \n",
      " |  __dict__\n",
      " |      dictionary for instance variables (if defined)\n",
      " |  \n",
      " |  __weakref__\n",
      " |      list of weak references to the object (if defined)\n",
      " |  \n",
      " |  ----------------------------------------------------------------------\n",
      " |  Data and other attributes inherited from Employee:\n",
      " |  \n",
      " |  num_of_emps = 4\n",
      " |  \n",
      " |  raise_amount = 1.04\n",
      "\n",
      "None\n"
     ]
    }
   ],
   "source": [
    "# Now in above code we can see that we just have written 'pass' inside the Developer class.\n",
    "# So by simply inherting from Employee class, we inherited all of its functionality.\n",
    "# So even without any code of its own, Developers class will have attributes and methods of our employee class \n",
    "\n",
    "# So we can access the attributes that were set in our parent employee class \n",
    "# So what happened here is, when we instantiate our developers, it first looked in our developers class for our __init__ method\n",
    "# And its not going to find it in our developers class because its currently empty\n",
    "# SO what python does here is, it walk ups the chain of inheritance untill it finds what its looking for.\n",
    "# Now this chain is called as method resolutioner \n",
    "\n",
    "# Lets check the details of Developer class through Employee class:\n",
    "\n",
    "print(help(Developer))\n",
    "\n",
    "# So as we can see in below output, method resolution order gives us an order in which Developer class searched for the solution\n",
    "# First it went to Developer class, in which it couldnt find anything, then it went to Employee class and there it could find attributes and instances \n",
    "# Then it gives details about the methods inherited from Employee"
   ]
  },
  {
   "cell_type": "code",
   "execution_count": null,
   "metadata": {},
   "outputs": [],
   "source": [
    "# Now suppose we want to customise our subclass a bit (raise_amount we will change)\n",
    "# But before that lets see, what happens when we call raise_amt on dev_1 and dev_2"
   ]
  },
  {
   "cell_type": "code",
   "execution_count": 13,
   "metadata": {},
   "outputs": [
    {
     "name": "stdout",
     "output_type": "stream",
     "text": [
      "50000\n",
      "52000\n"
     ]
    }
   ],
   "source": [
    "class Employee:\n",
    "    \n",
    "    raise_amount = 1.04\n",
    "    num_of_emps = 0\n",
    "    \n",
    "    def __init__(self, first, last, pay) :\n",
    "        self.first = first\n",
    "        self.last = last\n",
    "        self.pay = pay\n",
    "        self.email = first + '.' + last + '@company.com'\n",
    "        Employee.num_of_emps += 1 \n",
    "    \n",
    "    def fullname(self):   \n",
    "        return '{} {}'.format(self.first, self.last)\n",
    "\n",
    "    def apply_raise(self):\n",
    "        self.pay = int(self.pay * self.raise_amount)\n",
    "\n",
    "class Developer(Employee):\n",
    "    pass \n",
    "\n",
    "dev_1 = Developer('Saurabh', 'Tayde', 50000)\n",
    "dev_2 = Developer('Test', 'User', 60000)\n",
    "\n",
    "print(dev_1.pay)\n",
    "\n",
    "dev_1.apply_raise()\n",
    "\n",
    "print(dev_1.pay)\n",
    "\n",
    "# So from output we can see that we are getting 4% raise here\n"
   ]
  },
  {
   "cell_type": "code",
   "execution_count": 15,
   "metadata": {},
   "outputs": [
    {
     "name": "stdout",
     "output_type": "stream",
     "text": [
      "50000\n",
      "55000\n"
     ]
    }
   ],
   "source": [
    "# But suppose if we want 10% raise just on Developer's class, then we can write this change inside the Developer class as follows:\n",
    "\n",
    "class Employee:\n",
    "    \n",
    "    raise_amount = 1.04\n",
    "    num_of_emps = 0\n",
    "    \n",
    "    def __init__(self, first, last, pay) :\n",
    "        self.first = first\n",
    "        self.last = last\n",
    "        self.pay = pay\n",
    "        self.email = first + '.' + last + '@company.com'\n",
    "        Employee.num_of_emps += 1 \n",
    "    \n",
    "    def fullname(self):   \n",
    "        return '{} {}'.format(self.first, self.last)\n",
    "\n",
    "    def apply_raise(self):\n",
    "        self.pay = int(self.pay * self.raise_amount)\n",
    "\n",
    "class Developer(Employee):\n",
    "    raise_amount = 1.10\n",
    "\n",
    "dev_1 = Developer('Saurabh', 'Tayde', 50000)\n",
    "dev_2 = Developer('Test', 'User', 60000)\n",
    "\n",
    "print(dev_1.pay)\n",
    "\n",
    "dev_1.apply_raise()\n",
    "\n",
    "print(dev_1.pay)\n",
    "\n",
    "# So from output we can see that we are getting 10% raise here\n",
    "# So it used developers class raise_amount instead of employee class raise amount"
   ]
  },
  {
   "cell_type": "code",
   "execution_count": 17,
   "metadata": {},
   "outputs": [
    {
     "name": "stdout",
     "output_type": "stream",
     "text": [
      "50000\n",
      "52000\n"
     ]
    }
   ],
   "source": [
    "class Employee:\n",
    "    \n",
    "    raise_amount = 1.04\n",
    "    num_of_emps = 0\n",
    "    \n",
    "    def __init__(self, first, last, pay) :\n",
    "        self.first = first\n",
    "        self.last = last\n",
    "        self.pay = pay\n",
    "        self.email = first + '.' + last + '@company.com'\n",
    "        Employee.num_of_emps += 1 \n",
    "    \n",
    "    def fullname(self):   \n",
    "        return '{} {}'.format(self.first, self.last)\n",
    "\n",
    "    def apply_raise(self):\n",
    "        self.pay = int(self.pay * self.raise_amount)\n",
    "\n",
    "class Developer(Employee):\n",
    "    raise_amount = 1.10\n",
    "\n",
    "dev_1 = Employee('Saurabh', 'Tayde', 50000)\n",
    "dev_2 = Developer('Test', 'User', 60000)\n",
    "\n",
    "print(dev_1.pay)\n",
    "\n",
    "dev_1.apply_raise()\n",
    "\n",
    "print(dev_1.pay)\n",
    "\n",
    "# So from output we can see that Developers class 'raise_amt' doesn't affect Employee class raise_amt in any way.\n",
    "\n",
    "# So we can make the changes in new class as we want without breaking anything in parent class\n",
    "\n",
    "#Lets change is back to developer:"
   ]
  },
  {
   "cell_type": "code",
   "execution_count": 21,
   "metadata": {},
   "outputs": [
    {
     "name": "stdout",
     "output_type": "stream",
     "text": [
      "Saurabh.Tayde@company.com\n",
      "Python\n"
     ]
    }
   ],
   "source": [
    "# Lets change is back to developer and lets make few more complicated changes.\n",
    "# Sometimes we want to initiate our subclasses with more information that our parent class cannot handle\n",
    "# Suppose we want to put one more attribute in developers class - Their programming language skill.\n",
    "# But our employee class accepts only forst name, last name and pay\n",
    "# SO if we also want to pass the programming language there, then to get around this,\n",
    "# we gonna give Developers class its own __init__ method.\n",
    "# Note here that we don't need to specify first,last,pay again since we can use Employee class to fetch that information\n",
    "# So we will use 'super().__init__' here to initialize information that is already present in Employee class\n",
    "\n",
    "\n",
    "class Employee:\n",
    "    \n",
    "    raise_amount = 1.04\n",
    "    num_of_emps = 0\n",
    "    \n",
    "    def __init__(self, first, last, pay) :\n",
    "        self.first = first\n",
    "        self.last = last\n",
    "        self.pay = pay\n",
    "        self.email = first + '.' + last + '@company.com'\n",
    "        Employee.num_of_emps += 1 \n",
    "    \n",
    "    def fullname(self):   \n",
    "        return '{} {}'.format(self.first, self.last)\n",
    "\n",
    "    def apply_raise(self):\n",
    "        self.pay = int(self.pay * self.raise_amount)\n",
    "\n",
    "class Developer(Employee):\n",
    "    \n",
    "    raise_amount = 1.10\n",
    "    def __init__(self, first, last, pay, prog_lang):\n",
    "        super().__init__(first, last, pay)\n",
    "        self.prog_lang = prog_lang\n",
    "    \n",
    "\n",
    "dev_1 = Developer('Saurabh', 'Tayde', 50000, 'Python')\n",
    "dev_2 = Developer('Test', 'User', 60000, 'Java')\n",
    "\n",
    "print(dev_1.email)\n",
    "print(dev_1.prog_lang)\n",
    "\n",
    "# So we can see that we are getting correct output for Developer class too\n",
    "\n",
    "#print(dev_1.pay)\n",
    "#dev_1.apply_raise()\n",
    "#print(dev_1.pay)"
   ]
  },
  {
   "cell_type": "code",
   "execution_count": 31,
   "metadata": {},
   "outputs": [
    {
     "name": "stdout",
     "output_type": "stream",
     "text": [
      "Sue.Smith@company.com\n",
      "--> Saurabh Tayde\n",
      "--> Test User\n"
     ]
    }
   ],
   "source": [
    "# Lets create another subclass 'Manager'\n",
    "# In this class along with basic details we will add the list of employees that are working under that particular manager\n",
    "# Here in the __init__ of manager we will pass the employees as 'None' since we should not pass mutable data types as default arguments\n",
    "# We will also add the option to add or remove employees\n",
    "\n",
    "class Employee:\n",
    "    \n",
    "    raise_amount = 1.04\n",
    "    num_of_emps = 0\n",
    "    \n",
    "    def __init__(self, first, last, pay) :\n",
    "        self.first = first\n",
    "        self.last = last\n",
    "        self.pay = pay\n",
    "        self.email = first + '.' + last + '@company.com'\n",
    "        Employee.num_of_emps += 1 \n",
    "    \n",
    "    def fullname(self):   \n",
    "        return '{} {}'.format(self.first, self.last)\n",
    "\n",
    "    def apply_raise(self):\n",
    "        self.pay = int(self.pay * self.raise_amount)\n",
    "\n",
    "class Developer(Employee):\n",
    "    \n",
    "    raise_amount = 1.10\n",
    "    def __init__(self, first, last, pay, prog_lang):\n",
    "        super().__init__(first, last, pay)\n",
    "        self.prog_lang = prog_lang\n",
    "        \n",
    "class Manager(Employee):   \n",
    "    def __init__(self, first, last, pay, employees = None):\n",
    "        super().__init__(first, last, pay)\n",
    "        if employees is None:\n",
    "            self.employees = []\n",
    "        else:\n",
    "            self.employees = employees\n",
    "    \n",
    "    def add_emp(self, emp):\n",
    "        if emp not in self.employees:\n",
    "            self.employees.append(emp)\n",
    "\n",
    "    def remove_emp(self, emp):\n",
    "        if emp in self.employees:\n",
    "            self.employees.remove(emp)\n",
    "    \n",
    "    def print_emps(self):\n",
    "        for emp in self.employees:\n",
    "            print('-->', emp.fullname())\n",
    "        \n",
    "dev_1 = Developer('Saurabh', 'Tayde', 50000, 'Python')\n",
    "dev_2 = Developer('Test', 'User', 60000, 'Java')\n",
    "\n",
    "mgr_1 = Manager('Sue', 'Smith', 90000, [dev_1])\n",
    "\n",
    "print(mgr_1.email)    # So we are getting correct output for the manager class too\n",
    "\n",
    "mgr_1.print_emps()    # So the output prints employees full name\n",
    "\n",
    "#Lets add dev_2 employee to the managers list and remove the dev_1:\n",
    "\n",
    "mgr_1.add_emp(dev_2)\n",
    "mgr_1.remove_emp(dev_1)\n",
    "mgr_1.print_emps()  "
   ]
  },
  {
   "cell_type": "code",
   "execution_count": 37,
   "metadata": {},
   "outputs": [
    {
     "name": "stdout",
     "output_type": "stream",
     "text": [
      "True\n",
      "******\n",
      "True\n",
      "******\n",
      "False\n",
      "******\n"
     ]
    }
   ],
   "source": [
    "# Lets check 'isinstance()' functinality: it tells us if an object is an instance of a class:\n",
    "# Example:\n",
    "\n",
    "print(isinstance(mgr_1, Manager))\n",
    "print(6*'*')\n",
    "print(isinstance(mgr_1, Manager))\n",
    "print(6*'*')\n",
    "print(isinstance(mgr_1, Developer))\n",
    "print(6*'*')\n",
    "\n",
    "# We are getting false in last output as even if Manager and Developer both inherit from same class Employee,\n",
    "# they are not part of each other inheritance"
   ]
  },
  {
   "cell_type": "code",
   "execution_count": 42,
   "metadata": {},
   "outputs": [
    {
     "name": "stdout",
     "output_type": "stream",
     "text": [
      "True\n",
      "******\n",
      "True\n",
      "******\n",
      "False\n"
     ]
    }
   ],
   "source": [
    "# Lets check 'issubclass()' functionality: \n",
    "\n",
    "print(issubclass(Developer, Employee))\n",
    "print(6*'*')\n",
    "print(issubclass(Manager, Employee))\n",
    "print(6*'*')\n",
    "print(issubclass(Employee, Manager))\n"
   ]
  },
  {
   "cell_type": "code",
   "execution_count": 45,
   "metadata": {},
   "outputs": [
    {
     "name": "stdout",
     "output_type": "stream",
     "text": [
      "3\n",
      "ab\n"
     ]
    }
   ],
   "source": [
    "# Video 5: Special (Magic/Dunder) Methods:\n",
    "\n",
    "# Consider following example:\n",
    "\n",
    "print(1+2)\n",
    "print('a' + 'b')\n",
    "\n",
    "# So in output we can see that depending on what objects we are working with, the addition actually has different behaviour\n",
    "# So here python understands difference between numbers and strings\n"
   ]
  },
  {
   "cell_type": "code",
   "execution_count": 47,
   "metadata": {},
   "outputs": [
    {
     "name": "stdout",
     "output_type": "stream",
     "text": [
      "<__main__.Employee object at 0x0000023C8908A240>\n"
     ]
    }
   ],
   "source": [
    "# Lets see following output:\n",
    "\n",
    "print(emp_1)\n",
    "\n",
    "# So output of this is an object, but this not user friendly\n",
    "# So special methods are helpful in such cases\n",
    "# By using special methods we will be able to change this built in behaviour and operations.\n"
   ]
  },
  {
   "cell_type": "code",
   "execution_count": 49,
   "metadata": {},
   "outputs": [],
   "source": [
    "# Sepcial methods are always surrounded by 'double underscore' (Dunder):\n",
    "\n",
    "# __repr__ is unambiguos representation of an object and should be used for debugging, logging etc\n",
    "# __str__ is more readable representation of an object and is meant to be used for display for the end user\n",
    "\n",
    "# Lets see their use in following code:"
   ]
  },
  {
   "cell_type": "code",
   "execution_count": 54,
   "metadata": {},
   "outputs": [
    {
     "name": "stdout",
     "output_type": "stream",
     "text": [
      "Employee('Saurabh', 'Tayde', 50000)\n"
     ]
    }
   ],
   "source": [
    "# __repr__ :\n",
    "\n",
    "class Employee:\n",
    "    \n",
    "    raise_amount = 1.04\n",
    "    num_of_emps = 0\n",
    "    \n",
    "    def __init__(self, first, last, pay) :\n",
    "        self.first = first\n",
    "        self.last = last\n",
    "        self.pay = pay\n",
    "        self.email = first + '.' + last + '@company.com'\n",
    "        Employee.num_of_emps += 1 \n",
    "    \n",
    "    def fullname(self):   \n",
    "        return '{} {}'.format(self.first, self.last)\n",
    "\n",
    "    def apply_raise(self):\n",
    "        self.pay = int(self.pay * self.raise_amount)\n",
    "        \n",
    "    def __repr__(self):\n",
    "        return \"Employee('{}', '{}', {})\".format(self.first, self.last, self.pay)\n",
    "    \n",
    "emp_1 = Employee('Saurabh', 'Tayde', 50000)\n",
    "emp_2 = Employee('Test', 'User', 60000)\n",
    "\n",
    "print(emp_1)\n",
    "\n",
    "# So in output we are getting exact same thing what we used while creating an exmployee"
   ]
  },
  {
   "cell_type": "code",
   "execution_count": 65,
   "metadata": {},
   "outputs": [
    {
     "name": "stdout",
     "output_type": "stream",
     "text": [
      "Saurabh Tayde - Saurabh.Tayde@company.com\n",
      "**************************************************\n",
      "Employee('Saurabh', 'Tayde', 50000)\n",
      "Saurabh Tayde - Saurabh.Tayde@company.com\n",
      "**************************************************\n",
      "Employee('Saurabh', 'Tayde', 50000)\n",
      "Saurabh Tayde - Saurabh.Tayde@company.com\n"
     ]
    }
   ],
   "source": [
    "# __str__: \n",
    "\n",
    "class Employee:\n",
    "    \n",
    "    raise_amount = 1.04\n",
    "    num_of_emps = 0\n",
    "    \n",
    "    def __init__(self, first, last, pay) :\n",
    "        self.first = first\n",
    "        self.last = last\n",
    "        self.pay = pay\n",
    "        self.email = first + '.' + last + '@company.com'\n",
    "        Employee.num_of_emps += 1 \n",
    "    \n",
    "    def fullname(self):   \n",
    "        return '{} {}'.format(self.first, self.last)\n",
    "\n",
    "    def apply_raise(self):\n",
    "        self.pay = int(self.pay * self.raise_amount)\n",
    "        \n",
    "    def __repr__(self):\n",
    "        return \"Employee('{}', '{}', {})\".format(self.first, self.last, self.pay)\n",
    "    \n",
    "    def __str__(self):\n",
    "        return '{} - {}'.format(self.fullname(), self.email)\n",
    "    \n",
    "emp_1 = Employee('Saurabh', 'Tayde', 50000)\n",
    "emp_2 = Employee('Test', 'User', 60000)\n",
    "\n",
    "print(emp_1)\n",
    "print(50*'*')\n",
    "\n",
    "# So now as we can see in output, we are getting full name and email as in output after printing object\n",
    "# Still if we want we can specifically print __repr__ and _str__ if we want:\n",
    "\n",
    "print(repr(emp_1))\n",
    "print(str(emp_1))\n",
    "print(50*'*')\n",
    "\n",
    "# we can get exact same output in following commands too:\n",
    "\n",
    "print( emp_1.__repr__() )\n",
    "print( emp_1.__str__() )\n"
   ]
  },
  {
   "cell_type": "code",
   "execution_count": 67,
   "metadata": {},
   "outputs": [
    {
     "name": "stdout",
     "output_type": "stream",
     "text": [
      "3\n",
      "3\n"
     ]
    }
   ],
   "source": [
    "# As in above case same thing is happens when we add two integers\n",
    "# In background, python runs Dunder add method\n",
    "# Lets see the example:\n",
    "\n",
    "print(1+2)\n",
    "\n",
    "print(int.__add__(1,2))\n",
    "\n",
    "#So we are getting same result here"
   ]
  },
  {
   "cell_type": "code",
   "execution_count": 69,
   "metadata": {},
   "outputs": [
    {
     "name": "stdout",
     "output_type": "stream",
     "text": [
      "ab\n"
     ]
    }
   ],
   "source": [
    "# Also strings are using their own Dunder add method :\n",
    "\n",
    "print(str.__add__('a','b'))\n",
    "\n",
    "# So string dunder add actually concates strings together\n"
   ]
  },
  {
   "cell_type": "code",
   "execution_count": null,
   "metadata": {},
   "outputs": [],
   "source": [
    "# So in python there's in built functinality (Dunder add methods) that adds the objects depending on their object type\n"
   ]
  },
  {
   "cell_type": "code",
   "execution_count": 72,
   "metadata": {},
   "outputs": [
    {
     "name": "stdout",
     "output_type": "stream",
     "text": [
      "110000\n"
     ]
    }
   ],
   "source": [
    "# Now suppose in our example we want to add the salaries of the employees just by adding employees,\n",
    "# then this can be done using Dunder method:\n",
    "# We are creating a Dunder method here:\n",
    "\n",
    "# __str__: \n",
    "\n",
    "class Employee:\n",
    "    \n",
    "    raise_amount = 1.04\n",
    "    num_of_emps = 0\n",
    "    \n",
    "    def __init__(self, first, last, pay) :\n",
    "        self.first = first\n",
    "        self.last = last\n",
    "        self.pay = pay\n",
    "        self.email = first + '.' + last + '@company.com'\n",
    "        Employee.num_of_emps += 1 \n",
    "    \n",
    "    def fullname(self):   \n",
    "        return '{} {}'.format(self.first, self.last)\n",
    "\n",
    "    def apply_raise(self):\n",
    "        self.pay = int(self.pay * self.raise_amount)\n",
    "        \n",
    "    def __repr__(self):\n",
    "        return \"Employee('{}', '{}', {})\".format(self.first, self.last, self.pay)\n",
    "    \n",
    "    def __str__(self):\n",
    "        return '{} - {}'.format(self.fullname(), self.email)\n",
    "    \n",
    "    def __add__(self, other):\n",
    "        return self.pay + other.pay\n",
    "    \n",
    "emp_1 = Employee('Saurabh', 'Tayde', 50000)\n",
    "emp_2 = Employee('Test', 'User', 60000)\n",
    "\n",
    "# Let's try the addition now:\n",
    "\n",
    "print(emp_1 + emp_2)\n",
    "\n",
    "# So we are getting output here.\n",
    "# (Without dunder method code will throw error as it wont come to know about addition of the pay)"
   ]
  },
  {
   "cell_type": "code",
   "execution_count": 74,
   "metadata": {},
   "outputs": [
    {
     "data": {
      "text/plain": [
       "4"
      ]
     },
     "execution_count": 74,
     "metadata": {},
     "output_type": "execute_result"
    }
   ],
   "source": [
    "# Let take an another example of length() function:\n",
    "\n",
    "len('test')"
   ]
  },
  {
   "cell_type": "code",
   "execution_count": 76,
   "metadata": {},
   "outputs": [
    {
     "name": "stdout",
     "output_type": "stream",
     "text": [
      "4\n"
     ]
    }
   ],
   "source": [
    "# Above function is also an Duner method:\n",
    "\n",
    "print('test'.__len__())\n"
   ]
  },
  {
   "cell_type": "code",
   "execution_count": 79,
   "metadata": {},
   "outputs": [
    {
     "name": "stdout",
     "output_type": "stream",
     "text": [
      "13\n"
     ]
    }
   ],
   "source": [
    "# Now if we want that our Dunder function should work on object to measure length, then we should create a Dunder method in our class:\n",
    "# If our aim is to count number of alphabets in name then this Dunder method will be useful in such case\n",
    "\n",
    "# __str__: \n",
    "\n",
    "class Employee:\n",
    "    \n",
    "    raise_amount = 1.04\n",
    "    num_of_emps = 0\n",
    "    \n",
    "    def __init__(self, first, last, pay) :\n",
    "        self.first = first\n",
    "        self.last = last\n",
    "        self.pay = pay\n",
    "        self.email = first + '.' + last + '@company.com'\n",
    "        Employee.num_of_emps += 1 \n",
    "    \n",
    "    def fullname(self):   \n",
    "        return '{} {}'.format(self.first, self.last)\n",
    "\n",
    "    def apply_raise(self):\n",
    "        self.pay = int(self.pay * self.raise_amount)\n",
    "        \n",
    "    def __repr__(self):\n",
    "        return \"Employee('{}', '{}', {})\".format(self.first, self.last, self.pay)\n",
    "    \n",
    "    def __str__(self):\n",
    "        return '{} - {}'.format(self.fullname(), self.email)\n",
    "    \n",
    "    def __add__(self, other):\n",
    "        return self.pay + other.pay\n",
    "    \n",
    "    def __len__(self):\n",
    "        return (len(self.fullname()))\n",
    "    \n",
    "emp_1 = Employee('Saurabh', 'Tayde', 50000)\n",
    "emp_2 = Employee('Test', 'User', 60000)\n",
    "\n",
    "print(len(emp_1))\n",
    "\n",
    "# So we are getting output of length addition here"
   ]
  },
  {
   "cell_type": "code",
   "execution_count": null,
   "metadata": {},
   "outputs": [],
   "source": [
    "# Video 6:\n",
    "\n",
    "# Property Decorator: This allows us to give our class attributes about Getter, Setter and Deleter functionality \n"
   ]
  },
  {
   "cell_type": "code",
   "execution_count": 81,
   "metadata": {},
   "outputs": [
    {
     "name": "stdout",
     "output_type": "stream",
     "text": [
      "John\n",
      "John.Smith@email.com\n",
      "John Smith\n"
     ]
    }
   ],
   "source": [
    "# Consider the following example:\n",
    "\n",
    "class Employee:\n",
    "    \n",
    "    def __init__(self, first, last):\n",
    "        self.first = first\n",
    "        self.last = last\n",
    "        self.email = first + '.' + last + '@email.com'\n",
    "    \n",
    "    def fullname(self):   \n",
    "        return '{} {}'.format(self.first, self.last)\n",
    "\n",
    "emp_1 = Employee('John', 'Smith')\n",
    "\n",
    "print(emp_1.first)\n",
    "print(emp_1.email)\n",
    "print(emp_1.fullname())\n",
    "\n",
    "# We can see that out email attribute depends on our first name and last name\n",
    "#Lets check how this make's difference in next code:\n"
   ]
  },
  {
   "cell_type": "code",
   "execution_count": 82,
   "metadata": {},
   "outputs": [
    {
     "name": "stdout",
     "output_type": "stream",
     "text": [
      "Jim\n",
      "John.Smith@email.com\n",
      "Jim Smith\n"
     ]
    }
   ],
   "source": [
    "# Suppose we want to change the first name to 'Jim'\n",
    "# And we will do that as follows:\n",
    "\n",
    "emp_1.first = 'Jim'\n",
    "\n",
    "#Now lets print the details:\n",
    "\n",
    "print(emp_1.first)\n",
    "print(emp_1.email)\n",
    "print(emp_1.fullname())"
   ]
  },
  {
   "cell_type": "code",
   "execution_count": 84,
   "metadata": {},
   "outputs": [],
   "source": [
    "# So from above output we can see that first and last has been changed. But mail still holds the old first name\n",
    "# This is a drawback of using the attributes in another place under same method\n",
    "# Now fullname doesnt have this problem as everytime we run fullname() it takes fresh first and last name\n",
    "\n",
    "# So we need something that will change the email too after changning first name or last name\n",
    "# We can also make changes in code by creating a method for email() but it will break the code for other users that are currently using the class\n",
    "# So they will have to go through and change every instance of email attribute with email method.\n",
    "# That's why getter and setters are used in other languages and same can be done with Property Decorator in python\n",
    "# So decorator allows us to create a method but we can access it like an attribute\n",
    "\n",
    "# Still we will take an example of creating a separate method and will see how does it makes the difference:\n"
   ]
  },
  {
   "cell_type": "code",
   "execution_count": 96,
   "metadata": {},
   "outputs": [
    {
     "name": "stdout",
     "output_type": "stream",
     "text": [
      "Jim\n",
      "Jim.Smith@email.com\n",
      "Jim Smith\n"
     ]
    }
   ],
   "source": [
    "# We will create a new method here:\n",
    "\n",
    "class Employee:\n",
    "    \n",
    "    def __init__(self, first, last):\n",
    "        self.first = first\n",
    "        self.last = last\n",
    "\n",
    "    def email(self):\n",
    "        return '{}.{}@email.com'.format(self.first, self.last)\n",
    "    \n",
    "    def fullname(self):   \n",
    "        return '{} {}'.format(self.first, self.last)\n",
    "  \n",
    "\n",
    "emp_1 = Employee('John', 'Smith')\n",
    "\n",
    "emp_1.first = 'Jim'\n",
    "\n",
    "# Now lets print the details:\n",
    "\n",
    "print(emp_1.first)\n",
    "print(emp_1.email())\n",
    "print(emp_1.fullname())\n",
    "\n",
    "# So following changes we did in our code:\n",
    "    # We removed email attribute from the _init_ method\n",
    "    # We changed 'emp_1.email' to 'emp_1.email()'\n",
    "# So we are not accessing email like an attribute anymore here. We are calling it as a method\n",
    "#  and we need to change this in the code everywhere which might be tedious task.\n",
    "\n",
    "# So Lets check another approach in next code:\n"
   ]
  },
  {
   "cell_type": "code",
   "execution_count": 100,
   "metadata": {},
   "outputs": [
    {
     "name": "stdout",
     "output_type": "stream",
     "text": [
      "Jim\n",
      "Jim.Smith@email.com\n",
      "Jim Smith\n"
     ]
    }
   ],
   "source": [
    "# In approach followed in next code, we can access email like an attribute just by writing @proprty:\n",
    "\n",
    "class Employee:\n",
    "    def __init__(self, first, last):\n",
    "        self.first = first\n",
    "        self.last = last\n",
    "        \n",
    "    @property\n",
    "    def email(self):\n",
    "        return '{}.{}@email.com'.format(self.first, self.last)\n",
    "    \n",
    "    def fullname(self):   \n",
    "        return '{} {}'.format(self.first, self.last)\n",
    "  \n",
    "\n",
    "emp_1 = Employee('John', 'Smith')\n",
    "\n",
    "emp_1.first = 'Jim'\n",
    "\n",
    "# Now lets print the details:\n",
    "\n",
    "print(emp_1.first)\n",
    "print(emp_1.email)\n",
    "print(emp_1.fullname())\n",
    "\n",
    "# So now we can see that just by writing @property, email is taking new edited name\n"
   ]
  },
  {
   "cell_type": "code",
   "execution_count": 102,
   "metadata": {},
   "outputs": [
    {
     "name": "stdout",
     "output_type": "stream",
     "text": [
      "Jim\n",
      "Jim.Smith@email.com\n",
      "Jim Smith\n"
     ]
    }
   ],
   "source": [
    "# We can make the same changes in fullname also, just by writing @property on the method:\n",
    "\n",
    "class Employee:\n",
    "    def __init__(self, first, last):\n",
    "        self.first = first\n",
    "        self.last = last\n",
    "        \n",
    "    @property\n",
    "    def email(self):\n",
    "        return '{}.{}@email.com'.format(self.first, self.last)\n",
    "    \n",
    "    @property\n",
    "    def fullname(self):   \n",
    "        return '{} {}'.format(self.first, self.last)\n",
    "  \n",
    "\n",
    "emp_1 = Employee('John', 'Smith')\n",
    "\n",
    "emp_1.first = 'Jim'\n",
    "\n",
    "# Now lets print the details:\n",
    "\n",
    "print(emp_1.first)\n",
    "print(emp_1.email)\n",
    "print(emp_1.fullname)\n",
    "\n",
    "# So in output we can see that fullname also got changed"
   ]
  },
  {
   "cell_type": "code",
   "execution_count": 103,
   "metadata": {},
   "outputs": [
    {
     "ename": "AttributeError",
     "evalue": "can't set attribute",
     "output_type": "error",
     "traceback": [
      "\u001b[1;31m---------------------------------------------------------------------------\u001b[0m",
      "\u001b[1;31mAttributeError\u001b[0m                            Traceback (most recent call last)",
      "\u001b[1;32m<ipython-input-103-8dad4b4805a8>\u001b[0m in \u001b[0;36m<module>\u001b[1;34m\u001b[0m\n\u001b[0;32m     17\u001b[0m \u001b[0memp_1\u001b[0m \u001b[1;33m=\u001b[0m \u001b[0mEmployee\u001b[0m\u001b[1;33m(\u001b[0m\u001b[1;34m'John'\u001b[0m\u001b[1;33m,\u001b[0m \u001b[1;34m'Smith'\u001b[0m\u001b[1;33m)\u001b[0m\u001b[1;33m\u001b[0m\u001b[1;33m\u001b[0m\u001b[0m\n\u001b[0;32m     18\u001b[0m \u001b[1;33m\u001b[0m\u001b[0m\n\u001b[1;32m---> 19\u001b[1;33m \u001b[0memp_1\u001b[0m\u001b[1;33m.\u001b[0m\u001b[0mfullname\u001b[0m \u001b[1;33m=\u001b[0m \u001b[1;34m'Corey Schafer'\u001b[0m\u001b[1;33m\u001b[0m\u001b[1;33m\u001b[0m\u001b[0m\n\u001b[0m\u001b[0;32m     20\u001b[0m \u001b[1;33m\u001b[0m\u001b[0m\n\u001b[0;32m     21\u001b[0m \u001b[1;31m# Now lets print the details:\u001b[0m\u001b[1;33m\u001b[0m\u001b[1;33m\u001b[0m\u001b[1;33m\u001b[0m\u001b[0m\n",
      "\u001b[1;31mAttributeError\u001b[0m: can't set attribute"
     ]
    }
   ],
   "source": [
    "# Suppose that we need to set the name through fullname now, as follows:\n",
    "\n",
    "class Employee:\n",
    "    def __init__(self, first, last):\n",
    "        self.first = first\n",
    "        self.last = last\n",
    "        \n",
    "    @property\n",
    "    def email(self):\n",
    "        return '{}.{}@email.com'.format(self.first, self.last)\n",
    "    \n",
    "    @property\n",
    "    def fullname(self):   \n",
    "        return '{} {}'.format(self.first, self.last)\n",
    "  \n",
    "\n",
    "emp_1 = Employee('John', 'Smith')\n",
    "\n",
    "emp_1.fullname = 'Corey Schafer'\n",
    "\n",
    "# Now lets print the details:\n",
    "\n",
    "print(emp_1.first)\n",
    "print(emp_1.email)\n",
    "print(emp_1.fullname)\n"
   ]
  },
  {
   "cell_type": "code",
   "execution_count": 105,
   "metadata": {},
   "outputs": [
    {
     "name": "stdout",
     "output_type": "stream",
     "text": [
      "Corey\n",
      "Corey.Schafer@email.com\n",
      "Corey Schafer\n"
     ]
    }
   ],
   "source": [
    "# So we are getting error here as - 'it cant set an attribute'.\n",
    "\n",
    "# We can use setter in such case and setter is created as follows:\n",
    "class Employee:\n",
    "    def __init__(self, first, last):\n",
    "        self.first = first\n",
    "        self.last = last\n",
    "        \n",
    "    @property\n",
    "    def email(self):\n",
    "        return '{}.{}@email.com'.format(self.first, self.last)\n",
    "    \n",
    "    @property\n",
    "    def fullname(self):   \n",
    "        return '{} {}'.format(self.first, self.last)\n",
    " \n",
    "    @fullname.setter\n",
    "    def fullname(self, name):\n",
    "        first, last = name.split(' ')\n",
    "        self.first = first\n",
    "        self.last = last   \n",
    "\n",
    "emp_1 = Employee('John', 'Smith')\n",
    "\n",
    "emp_1.fullname = 'Corey Schafer'\n",
    "\n",
    "# Now lets print the details:\n",
    "\n",
    "print(emp_1.first)\n",
    "print(emp_1.email)\n",
    "print(emp_1.fullname)\n",
    "\n",
    "# So from output we can see that changes are applicable in the whole code even if setter is at the end of the code\n"
   ]
  },
  {
   "cell_type": "code",
   "execution_count": 108,
   "metadata": {},
   "outputs": [
    {
     "name": "stdout",
     "output_type": "stream",
     "text": [
      "Corey\n",
      "Corey.Schafer@email.com\n",
      "Corey Schafer\n",
      "Delete name !!\n"
     ]
    }
   ],
   "source": [
    "# Deleter:\n",
    "\n",
    "# Suppose we want to delete the full name of our employee and we need to run some kind of cleanup code:\n",
    "# We can do this by creating Deleter method:\n",
    "\n",
    "class Employee:\n",
    "    def __init__(self, first, last):\n",
    "        self.first = first\n",
    "        self.last = last\n",
    "        \n",
    "    @property\n",
    "    def email(self):\n",
    "        return '{}.{}@email.com'.format(self.first, self.last)\n",
    "    \n",
    "    @property\n",
    "    def fullname(self):   \n",
    "        return '{} {}'.format(self.first, self.last)\n",
    " \n",
    "    @fullname.setter\n",
    "    def fullname(self, name):\n",
    "        first, last = name.split(' ')\n",
    "        self.first = first\n",
    "        self.last = last   \n",
    "\n",
    "    @fullname.deleter \n",
    "    def fullname(self):\n",
    "        print('Delete name !!')\n",
    "        self.first = None\n",
    "        self.last = None\n",
    "        \n",
    "emp_1 = Employee('John', 'Smith')\n",
    "\n",
    "emp_1.fullname = 'Corey Schafer'\n",
    "\n",
    "# Now lets print the details:\n",
    "\n",
    "print(emp_1.first)\n",
    "print(emp_1.email)\n",
    "print(emp_1.fullname)\n",
    "\n",
    "del emp_1.fullname\n",
    "\n",
    "# So from output we can see that changes are applicable in the whole code even if setter is at the end of the code\n"
   ]
  },
  {
   "cell_type": "code",
   "execution_count": null,
   "metadata": {},
   "outputs": [],
   "source": []
  }
 ],
 "metadata": {
  "kernelspec": {
   "display_name": "Python 3",
   "language": "python",
   "name": "python3"
  },
  "language_info": {
   "codemirror_mode": {
    "name": "ipython",
    "version": 3
   },
   "file_extension": ".py",
   "mimetype": "text/x-python",
   "name": "python",
   "nbconvert_exporter": "python",
   "pygments_lexer": "ipython3",
   "version": "3.8.8"
  }
 },
 "nbformat": 4,
 "nbformat_minor": 2
}
